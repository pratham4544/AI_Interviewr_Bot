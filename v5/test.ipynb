{
 "cells": [
  {
   "cell_type": "code",
   "execution_count": 1,
   "id": "4ff325e7",
   "metadata": {},
   "outputs": [],
   "source": [
    "import os\n",
    "from dotenv import load_dotenv\n",
    "import sounddevice as sd\n",
    "import soundfile as sf\n",
    "from scipy.io.wavfile import write\n",
    "import json\n",
    "import numpy as np\n",
    "import streamlit as st\n",
    "from typing import Dict, Any, List, Tuple\n",
    "from pymongo import MongoClient\n",
    "from langchain_core.prompts import PromptTemplate\n",
    "from langchain_groq import ChatGroq\n",
    "from groq import Groq\n",
    "import time\n",
    "from complex_helper import *\n",
    "\n",
    "load_dotenv()\n",
    "\n",
    "# Initialize API clients\n",
    "GROQ_API_KEY = os.getenv(\"GROQ_API_KEY\")\n",
    "MONGO_URI = os.getenv(\"MONGO_URI\")\n",
    "\n",
    "# Initialize Groq client and LLM\n",
    "client = Groq(api_key=GROQ_API_KEY)\n",
    "llm = ChatGroq(api_key=GROQ_API_KEY, model=\"llama-3.1-8b-instant\", temperature=0)"
   ]
  },
  {
   "cell_type": "code",
   "execution_count": 2,
   "id": "aa9935bd",
   "metadata": {},
   "outputs": [],
   "source": [
    "interviewr_bot = InterviewerBot()"
   ]
  },
  {
   "cell_type": "code",
   "execution_count": 3,
   "id": "975dedc9",
   "metadata": {},
   "outputs": [
    {
     "data": {
      "text/plain": [
       "{'_id': 'JOHDOE-20241013151130',\n",
       " 'id': 'JOHDOE-20241013151130',\n",
       " 'personal_information': {'first_name': 'John',\n",
       "  'last_name': 'Doe',\n",
       "  'date_of_birth': datetime.datetime(1990, 1, 1, 0, 0),\n",
       "  'email': 'john.doe@example.com',\n",
       "  'phone_number': '1234567890',\n",
       "  'address': '123 Main St'},\n",
       " 'education_qualifications': {'highest_education_level': \"Bachelor's Degree\",\n",
       "  'university_name': 'XYZ University',\n",
       "  'degree_name': 'B.Sc in Computer Science',\n",
       "  'specialization': 'Computer Science and Engineering',\n",
       "  'percentage_marks': 8.5,\n",
       "  'certificates_diplomas': ['AWS Certified Developer']},\n",
       " 'work_experience': [{'company_name': 'ABC Corp',\n",
       "   'job_title': 'Software Engineer',\n",
       "   'start_date': datetime.datetime(2018, 1, 1, 0, 0),\n",
       "   'end_date': datetime.datetime(2021, 12, 31, 0, 0),\n",
       "   'key_responsibilities': ['Develop software', 'Maintain systems'],\n",
       "   'achievements': ['Employee of the Month']}],\n",
       " 'technical_skills': {'programming_languages': ['Python', 'Java'],\n",
       "  'development_tools': ['VS Code', 'PyCharm'],\n",
       "  'operating_systems': ['Linux', 'Windows'],\n",
       "  'database_management_systems': ['PostgreSQL', 'MongoDB'],\n",
       "  'cloud_platforms': ['AWS']},\n",
       " 'soft_skills': {'communication': 'Advanced',\n",
       "  'teamwork': 'Advanced',\n",
       "  'problem_solving': 'Intermediate',\n",
       "  'time_management': 'Advanced',\n",
       "  'adaptability': 'Expert'},\n",
       " 'achievements_awards': {'projects_awards': ['Project A', 'Project B'],\n",
       "  'publications_presentations': ['Presentation on ML',\n",
       "   'AI for Good Conference']},\n",
       " 'availability_preferences': {'expected_salary': 60000.0,\n",
       "  'job_location': 'Remote',\n",
       "  'job_type': 'Full-time',\n",
       "  'work_environment': 'Remote'},\n",
       " 'certifications_licenses': {'certificates_licenses': ['PMP',\n",
       "   'AWS Certified Developer']},\n",
       " 'additional_information': {'hobbies_interests': 'Hiking, Reading',\n",
       "  'references': ['Jane Doe, 9876543210'],\n",
       "  'reason_for_role_interest': 'Interested in AI/ML field',\n",
       "  'cv_link': '/Users/adityaprakash/Rupadi/Python/Projects/AietaPlaform/interview_management_system/CV/CV_JOHDOE-20241013151130'},\n",
       " 'requirement_information': {'requirement_id': 'SEN-8053BC'}}"
      ]
     },
     "execution_count": 3,
     "metadata": {},
     "output_type": "execute_result"
    }
   ],
   "source": [
    "candidate_data = interviewr_bot.extract_candidate_info()\n",
    "candidate_data"
   ]
  },
  {
   "cell_type": "code",
   "execution_count": 11,
   "id": "39da28ef",
   "metadata": {},
   "outputs": [
    {
     "data": {
      "text/plain": [
       "'John'"
      ]
     },
     "execution_count": 11,
     "metadata": {},
     "output_type": "execute_result"
    }
   ],
   "source": [
    "candidate_data['personal_information']['first_name']"
   ]
  },
  {
   "cell_type": "code",
   "execution_count": 4,
   "id": "42d4be9a",
   "metadata": {},
   "outputs": [
    {
     "data": {
      "text/plain": [
       "{'interview': {'greeting_script': \"Hello John Doe, it's great to have you here today. I must say, I'm impressed with your experience as a Software Engineer at ABC Corp, where you were recognized as Employee of the Month. Your achievements in developing software and maintaining systems are truly commendable. I'm excited to learn more about your skills and experience in the field of Data Science and AI.\",\n",
       "  'questions': ['Can you walk me through your experience with Python and Java programming languages? How have you applied them in your previous roles?',\n",
       "   \"You've mentioned 'Project A' and 'Project B' as some of your notable projects. Can you tell me more about these projects, including your role, the technologies used, and the outcomes?\",\n",
       "   'A common challenge in Data Science is dealing with imbalanced datasets. Can you describe a time when you encountered this issue and how you approached it?',\n",
       "   \"As a team player, can you give an example of a successful collaboration you've been a part of? How did you communicate with your team and what was your role in the project?\",\n",
       "   \"What are your long-term goals in the field of Data Science and AI? Are there any specific areas you'd like to specialize in or any new skills you'd like to acquire?\"]}}"
      ]
     },
     "execution_count": 4,
     "metadata": {},
     "output_type": "execute_result"
    }
   ],
   "source": [
    "greet_and_question = interviewr_bot.generate_questions()\n",
    "greet_and_question\n"
   ]
  },
  {
   "cell_type": "code",
   "execution_count": 12,
   "id": "57467de5",
   "metadata": {},
   "outputs": [
    {
     "data": {
      "text/plain": [
       "\"Hello John Doe, it's great to have you here today. I must say, I'm impressed with your experience as a Software Engineer at ABC Corp, where you were recognized as Employee of the Month. Your achievements in developing software and maintaining systems are truly commendable. I'm excited to learn more about your skills and experience in the field of Data Science and AI.\""
      ]
     },
     "execution_count": 12,
     "metadata": {},
     "output_type": "execute_result"
    }
   ],
   "source": [
    "greet_and_question['interview']['greeting_script']"
   ]
  },
  {
   "cell_type": "code",
   "execution_count": 5,
   "id": "bf40a0b7",
   "metadata": {},
   "outputs": [
    {
     "data": {
      "text/plain": [
       "['Can you walk me through your experience with Python and Java programming languages? How have you applied them in your previous roles?',\n",
       " \"You've mentioned 'Project A' and 'Project B' as some of your notable projects. Can you tell me more about these projects, including your role, the technologies used, and the outcomes?\",\n",
       " 'A common challenge in Data Science is dealing with imbalanced datasets. Can you describe a time when you encountered this issue and how you approached it?',\n",
       " \"As a team player, can you give an example of a successful collaboration you've been a part of? How did you communicate with your team and what was your role in the project?\",\n",
       " \"What are your long-term goals in the field of Data Science and AI? Are there any specific areas you'd like to specialize in or any new skills you'd like to acquire?\"]"
      ]
     },
     "execution_count": 5,
     "metadata": {},
     "output_type": "execute_result"
    }
   ],
   "source": [
    "greetings = greet_and_question['interview']['greeting_script']\n",
    "questions = greet_and_question['interview']['questions']\n",
    "questions"
   ]
  },
  {
   "cell_type": "code",
   "execution_count": 6,
   "id": "8915602f",
   "metadata": {},
   "outputs": [],
   "source": [
    "# score = {}\n",
    "# follow_up_questions_1={}\n",
    "\n",
    "# for i in questions[:2]:\n",
    "#     print('First Question Ready To Serve You..')\n",
    "#     question_speech = interviewr_bot.convert_question_to_speech(i)\n",
    "#     print('Answer the Question')\n",
    "#     answer_speech = interviewr_bot.record_until_enter()\n",
    "#     print('Converting Speech Into Text For Better Understanding')\n",
    "#     answer_text = interviewr_bot.convert_speech_to_text()\n",
    "#     print('Analyzing the answer you provided')\n",
    "#     evaluate_answer = interviewr_bot.evaluate_answer(i, answer_text)\n",
    "#     score[i] = {\n",
    "#         \"question_speech\": question_speech,\n",
    "#         \"answer_speech\": answer_speech,\n",
    "#         \"answer_text\": answer_text,\n",
    "#         \"evaluation\": evaluate_answer\n",
    "#     }\n",
    "#     print('store answer in my record')\n",
    "#     if score[i]['evaluation']['evaluation']['score'] <= 6:\n",
    "#         print('generating followup question for better understanding about what you say')\n",
    "#         follow_up_questions = interviewr_bot.generate_follow_up_question(i,answer_text)\n",
    "#         print('here the followup question', follow_up_questions)\n",
    "#         question_speech = interviewr_bot.convert_question_to_speech(i)\n",
    "#         print('can you clarify the answer with more detail way')\n",
    "#         answer_speech = interviewr_bot.record_until_enter()\n",
    "#         print('understanding your answer')\n",
    "#         answer_text = interviewr_bot.convert_speech_to_text()\n",
    "#         print('evaluating your answer')\n",
    "#         evaluate_answer = interviewr_bot.evaluate_answer(i, answer_text)\n",
    "#         print('adding your answer to my knowldege source')\n",
    "#         score[i] = {\n",
    "#             \"follow_up_question_1\":follow_up_questions,\n",
    "#             'follow_up_question_answer_1': answer_text,\n",
    "#             'evaluation_answer_1': evaluate_answer,         \n",
    "#         }\n",
    "#         if score[i]['evaluation']['evaluation']['score'] <= 6:\n",
    "#             print('i fill your answer is still not completed can you explain more')\n",
    "#             follow_up_questions = interviewr_bot.generate_follow_up_question(i,answer_text)\n",
    "#             print('exaplain me this question', follow_up_questions)\n",
    "#             question_speech = interviewr_bot.convert_question_to_speech(i)\n",
    "#             print('please answer with more clarity')\n",
    "#             answer_speech = interviewr_bot.record_until_enter()\n",
    "#             print('converting speech to text')\n",
    "#             answer_text = interviewr_bot.convert_speech_to_text()\n",
    "#             print('storing your asnwer into my knowledge source')\n",
    "#             evaluate_answer = interviewr_bot.evaluate_answer(i, answer_text)\n",
    "#             score[i] = {\n",
    "#                 \"follow_up_question_2\":follow_up_questions,\n",
    "#                 'follow_up_question_answer_2': answer_text,\n",
    "#                 'evaluation_answer_2': evaluate_answer,         \n",
    "#             }\n",
    "#         else:\n",
    "#             pass\n",
    "#     else:\n",
    "#         pass"
   ]
  },
  {
   "cell_type": "code",
   "execution_count": 7,
   "id": "dfdb3f0c",
   "metadata": {},
   "outputs": [],
   "source": [
    "# score"
   ]
  },
  {
   "cell_type": "code",
   "execution_count": 8,
   "id": "66cbb886",
   "metadata": {},
   "outputs": [
    {
     "name": "stdout",
     "output_type": "stream",
     "text": [
      "\n",
      "--- [Question 1] Serving Initial Question ---\n"
     ]
    },
    {
     "ename": "BadRequestError",
     "evalue": "Error code: 400 - {'error': {'message': 'The model `playai-tts` requires terms acceptance. Please have the org admin accept the terms at https://console.groq.com/playground?model=playai-tts', 'type': 'invalid_request_error', 'code': 'model_terms_required'}}",
     "output_type": "error",
     "traceback": [
      "\u001b[0;31m---------------------------------------------------------------------------\u001b[0m",
      "\u001b[0;31mBadRequestError\u001b[0m                           Traceback (most recent call last)",
      "Cell \u001b[0;32mIn[8], line 5\u001b[0m\n\u001b[1;32m      3\u001b[0m \u001b[38;5;28;01mfor\u001b[39;00m idx, question \u001b[38;5;129;01min\u001b[39;00m \u001b[38;5;28menumerate\u001b[39m(questions[:\u001b[38;5;241m2\u001b[39m], \u001b[38;5;241m1\u001b[39m):\n\u001b[1;32m      4\u001b[0m     \u001b[38;5;28mprint\u001b[39m(\u001b[38;5;124mf\u001b[39m\u001b[38;5;124m\"\u001b[39m\u001b[38;5;130;01m\\n\u001b[39;00m\u001b[38;5;124m--- [Question \u001b[39m\u001b[38;5;132;01m{\u001b[39;00midx\u001b[38;5;132;01m}\u001b[39;00m\u001b[38;5;124m] Serving Initial Question ---\u001b[39m\u001b[38;5;124m\"\u001b[39m)\n\u001b[0;32m----> 5\u001b[0m     question_speech \u001b[38;5;241m=\u001b[39m \u001b[43minterviewr_bot\u001b[49m\u001b[38;5;241;43m.\u001b[39;49m\u001b[43mconvert_question_to_speech\u001b[49m\u001b[43m(\u001b[49m\u001b[43mquestion\u001b[49m\u001b[43m)\u001b[49m\n\u001b[1;32m      7\u001b[0m     \u001b[38;5;28mprint\u001b[39m(\u001b[38;5;124mf\u001b[39m\u001b[38;5;124m\"\u001b[39m\u001b[38;5;124m[Question \u001b[39m\u001b[38;5;132;01m{\u001b[39;00midx\u001b[38;5;132;01m}\u001b[39;00m\u001b[38;5;124m] Awaiting User Answer (Press Enter to Stop Recording)...\u001b[39m\u001b[38;5;124m\"\u001b[39m)\n\u001b[1;32m      8\u001b[0m     answer_speech \u001b[38;5;241m=\u001b[39m interviewr_bot\u001b[38;5;241m.\u001b[39mrecord_until_enter()\n",
      "File \u001b[0;32m~/Desktop/projects/interviewer_bot/v5/complex_helper.py:76\u001b[0m, in \u001b[0;36mInterviewerBot.convert_question_to_speech\u001b[0;34m(self, question)\u001b[0m\n\u001b[1;32m     75\u001b[0m \u001b[38;5;28;01mdef\u001b[39;00m\u001b[38;5;250m \u001b[39m\u001b[38;5;21mconvert_question_to_speech\u001b[39m(\u001b[38;5;28mself\u001b[39m, question: \u001b[38;5;28mstr\u001b[39m) \u001b[38;5;241m-\u001b[39m\u001b[38;5;241m>\u001b[39m \u001b[38;5;28;01mNone\u001b[39;00m:\n\u001b[0;32m---> 76\u001b[0m     response \u001b[38;5;241m=\u001b[39m \u001b[43mclient\u001b[49m\u001b[38;5;241;43m.\u001b[39;49m\u001b[43maudio\u001b[49m\u001b[38;5;241;43m.\u001b[39;49m\u001b[43mspeech\u001b[49m\u001b[38;5;241;43m.\u001b[39;49m\u001b[43mcreate\u001b[49m\u001b[43m(\u001b[49m\n\u001b[1;32m     77\u001b[0m \u001b[43m        \u001b[49m\u001b[43mmodel\u001b[49m\u001b[38;5;241;43m=\u001b[39;49m\u001b[38;5;124;43m'\u001b[39;49m\u001b[38;5;124;43mplayai-tts\u001b[39;49m\u001b[38;5;124;43m'\u001b[39;49m\u001b[43m,\u001b[49m\n\u001b[1;32m     78\u001b[0m \u001b[43m        \u001b[49m\u001b[43mvoice\u001b[49m\u001b[38;5;241;43m=\u001b[39;49m\u001b[38;5;124;43m'\u001b[39;49m\u001b[38;5;124;43mFritz-PlayAI\u001b[39;49m\u001b[38;5;124;43m'\u001b[39;49m\u001b[43m,\u001b[49m\n\u001b[1;32m     79\u001b[0m \u001b[43m        \u001b[49m\u001b[38;5;28;43minput\u001b[39;49m\u001b[38;5;241;43m=\u001b[39;49m\u001b[43mquestion\u001b[49m\u001b[43m,\u001b[49m\n\u001b[1;32m     80\u001b[0m \u001b[43m        \u001b[49m\u001b[43mresponse_format\u001b[49m\u001b[38;5;241;43m=\u001b[39;49m\u001b[38;5;124;43m'\u001b[39;49m\u001b[38;5;124;43mwav\u001b[39;49m\u001b[38;5;124;43m'\u001b[39;49m\n\u001b[1;32m     81\u001b[0m \u001b[43m    \u001b[49m\u001b[43m)\u001b[49m\n\u001b[1;32m     82\u001b[0m     response\u001b[38;5;241m.\u001b[39mwrite_to_file(\u001b[38;5;124m\"\u001b[39m\u001b[38;5;124mspeech.wav\u001b[39m\u001b[38;5;124m\"\u001b[39m)\n\u001b[1;32m     83\u001b[0m     data, samplerate \u001b[38;5;241m=\u001b[39m sf\u001b[38;5;241m.\u001b[39mread(\u001b[38;5;124m\"\u001b[39m\u001b[38;5;124mspeech.wav\u001b[39m\u001b[38;5;124m\"\u001b[39m)\n",
      "File \u001b[0;32m~/Desktop/projects/interviewer_bot/int_bot/lib/python3.10/site-packages/groq/resources/audio/speech.py:88\u001b[0m, in \u001b[0;36mSpeech.create\u001b[0;34m(self, input, model, voice, response_format, speed, extra_headers, extra_query, extra_body, timeout)\u001b[0m\n\u001b[1;32m     64\u001b[0m \u001b[38;5;250m\u001b[39m\u001b[38;5;124;03m\"\"\"\u001b[39;00m\n\u001b[1;32m     65\u001b[0m \u001b[38;5;124;03mGenerates audio from the input text.\u001b[39;00m\n\u001b[1;32m     66\u001b[0m \n\u001b[0;32m   (...)\u001b[0m\n\u001b[1;32m     85\u001b[0m \u001b[38;5;124;03m  timeout: Override the client-level default timeout for this request, in seconds\u001b[39;00m\n\u001b[1;32m     86\u001b[0m \u001b[38;5;124;03m\"\"\"\u001b[39;00m\n\u001b[1;32m     87\u001b[0m extra_headers \u001b[38;5;241m=\u001b[39m {\u001b[38;5;124m\"\u001b[39m\u001b[38;5;124mAccept\u001b[39m\u001b[38;5;124m\"\u001b[39m: \u001b[38;5;124m\"\u001b[39m\u001b[38;5;124maudio/wav\u001b[39m\u001b[38;5;124m\"\u001b[39m, \u001b[38;5;241m*\u001b[39m\u001b[38;5;241m*\u001b[39m(extra_headers \u001b[38;5;129;01mor\u001b[39;00m {})}\n\u001b[0;32m---> 88\u001b[0m \u001b[38;5;28;01mreturn\u001b[39;00m \u001b[38;5;28;43mself\u001b[39;49m\u001b[38;5;241;43m.\u001b[39;49m\u001b[43m_post\u001b[49m\u001b[43m(\u001b[49m\n\u001b[1;32m     89\u001b[0m \u001b[43m    \u001b[49m\u001b[38;5;124;43m\"\u001b[39;49m\u001b[38;5;124;43m/openai/v1/audio/speech\u001b[39;49m\u001b[38;5;124;43m\"\u001b[39;49m\u001b[43m,\u001b[49m\n\u001b[1;32m     90\u001b[0m \u001b[43m    \u001b[49m\u001b[43mbody\u001b[49m\u001b[38;5;241;43m=\u001b[39;49m\u001b[43mmaybe_transform\u001b[49m\u001b[43m(\u001b[49m\n\u001b[1;32m     91\u001b[0m \u001b[43m        \u001b[49m\u001b[43m{\u001b[49m\n\u001b[1;32m     92\u001b[0m \u001b[43m            \u001b[49m\u001b[38;5;124;43m\"\u001b[39;49m\u001b[38;5;124;43minput\u001b[39;49m\u001b[38;5;124;43m\"\u001b[39;49m\u001b[43m:\u001b[49m\u001b[43m \u001b[49m\u001b[38;5;28;43minput\u001b[39;49m\u001b[43m,\u001b[49m\n\u001b[1;32m     93\u001b[0m \u001b[43m            \u001b[49m\u001b[38;5;124;43m\"\u001b[39;49m\u001b[38;5;124;43mmodel\u001b[39;49m\u001b[38;5;124;43m\"\u001b[39;49m\u001b[43m:\u001b[49m\u001b[43m \u001b[49m\u001b[43mmodel\u001b[49m\u001b[43m,\u001b[49m\n\u001b[1;32m     94\u001b[0m \u001b[43m            \u001b[49m\u001b[38;5;124;43m\"\u001b[39;49m\u001b[38;5;124;43mvoice\u001b[39;49m\u001b[38;5;124;43m\"\u001b[39;49m\u001b[43m:\u001b[49m\u001b[43m \u001b[49m\u001b[43mvoice\u001b[49m\u001b[43m,\u001b[49m\n\u001b[1;32m     95\u001b[0m \u001b[43m            \u001b[49m\u001b[38;5;124;43m\"\u001b[39;49m\u001b[38;5;124;43mresponse_format\u001b[39;49m\u001b[38;5;124;43m\"\u001b[39;49m\u001b[43m:\u001b[49m\u001b[43m \u001b[49m\u001b[43mresponse_format\u001b[49m\u001b[43m,\u001b[49m\n\u001b[1;32m     96\u001b[0m \u001b[43m            \u001b[49m\u001b[38;5;124;43m\"\u001b[39;49m\u001b[38;5;124;43mspeed\u001b[39;49m\u001b[38;5;124;43m\"\u001b[39;49m\u001b[43m:\u001b[49m\u001b[43m \u001b[49m\u001b[43mspeed\u001b[49m\u001b[43m,\u001b[49m\n\u001b[1;32m     97\u001b[0m \u001b[43m        \u001b[49m\u001b[43m}\u001b[49m\u001b[43m,\u001b[49m\n\u001b[1;32m     98\u001b[0m \u001b[43m        \u001b[49m\u001b[43mspeech_create_params\u001b[49m\u001b[38;5;241;43m.\u001b[39;49m\u001b[43mSpeechCreateParams\u001b[49m\u001b[43m,\u001b[49m\n\u001b[1;32m     99\u001b[0m \u001b[43m    \u001b[49m\u001b[43m)\u001b[49m\u001b[43m,\u001b[49m\n\u001b[1;32m    100\u001b[0m \u001b[43m    \u001b[49m\u001b[43moptions\u001b[49m\u001b[38;5;241;43m=\u001b[39;49m\u001b[43mmake_request_options\u001b[49m\u001b[43m(\u001b[49m\n\u001b[1;32m    101\u001b[0m \u001b[43m        \u001b[49m\u001b[43mextra_headers\u001b[49m\u001b[38;5;241;43m=\u001b[39;49m\u001b[43mextra_headers\u001b[49m\u001b[43m,\u001b[49m\u001b[43m \u001b[49m\u001b[43mextra_query\u001b[49m\u001b[38;5;241;43m=\u001b[39;49m\u001b[43mextra_query\u001b[49m\u001b[43m,\u001b[49m\u001b[43m \u001b[49m\u001b[43mextra_body\u001b[49m\u001b[38;5;241;43m=\u001b[39;49m\u001b[43mextra_body\u001b[49m\u001b[43m,\u001b[49m\u001b[43m \u001b[49m\u001b[43mtimeout\u001b[49m\u001b[38;5;241;43m=\u001b[39;49m\u001b[43mtimeout\u001b[49m\n\u001b[1;32m    102\u001b[0m \u001b[43m    \u001b[49m\u001b[43m)\u001b[49m\u001b[43m,\u001b[49m\n\u001b[1;32m    103\u001b[0m \u001b[43m    \u001b[49m\u001b[43mcast_to\u001b[49m\u001b[38;5;241;43m=\u001b[39;49m\u001b[43mBinaryAPIResponse\u001b[49m\u001b[43m,\u001b[49m\n\u001b[1;32m    104\u001b[0m \u001b[43m\u001b[49m\u001b[43m)\u001b[49m\n",
      "File \u001b[0;32m~/Desktop/projects/interviewer_bot/int_bot/lib/python3.10/site-packages/groq/_base_client.py:1222\u001b[0m, in \u001b[0;36mSyncAPIClient.post\u001b[0;34m(self, path, cast_to, body, options, files, stream, stream_cls)\u001b[0m\n\u001b[1;32m   1208\u001b[0m \u001b[38;5;28;01mdef\u001b[39;00m\u001b[38;5;250m \u001b[39m\u001b[38;5;21mpost\u001b[39m(\n\u001b[1;32m   1209\u001b[0m     \u001b[38;5;28mself\u001b[39m,\n\u001b[1;32m   1210\u001b[0m     path: \u001b[38;5;28mstr\u001b[39m,\n\u001b[0;32m   (...)\u001b[0m\n\u001b[1;32m   1217\u001b[0m     stream_cls: \u001b[38;5;28mtype\u001b[39m[_StreamT] \u001b[38;5;241m|\u001b[39m \u001b[38;5;28;01mNone\u001b[39;00m \u001b[38;5;241m=\u001b[39m \u001b[38;5;28;01mNone\u001b[39;00m,\n\u001b[1;32m   1218\u001b[0m ) \u001b[38;5;241m-\u001b[39m\u001b[38;5;241m>\u001b[39m ResponseT \u001b[38;5;241m|\u001b[39m _StreamT:\n\u001b[1;32m   1219\u001b[0m     opts \u001b[38;5;241m=\u001b[39m FinalRequestOptions\u001b[38;5;241m.\u001b[39mconstruct(\n\u001b[1;32m   1220\u001b[0m         method\u001b[38;5;241m=\u001b[39m\u001b[38;5;124m\"\u001b[39m\u001b[38;5;124mpost\u001b[39m\u001b[38;5;124m\"\u001b[39m, url\u001b[38;5;241m=\u001b[39mpath, json_data\u001b[38;5;241m=\u001b[39mbody, files\u001b[38;5;241m=\u001b[39mto_httpx_files(files), \u001b[38;5;241m*\u001b[39m\u001b[38;5;241m*\u001b[39moptions\n\u001b[1;32m   1221\u001b[0m     )\n\u001b[0;32m-> 1222\u001b[0m     \u001b[38;5;28;01mreturn\u001b[39;00m cast(ResponseT, \u001b[38;5;28;43mself\u001b[39;49m\u001b[38;5;241;43m.\u001b[39;49m\u001b[43mrequest\u001b[49m\u001b[43m(\u001b[49m\u001b[43mcast_to\u001b[49m\u001b[43m,\u001b[49m\u001b[43m \u001b[49m\u001b[43mopts\u001b[49m\u001b[43m,\u001b[49m\u001b[43m \u001b[49m\u001b[43mstream\u001b[49m\u001b[38;5;241;43m=\u001b[39;49m\u001b[43mstream\u001b[49m\u001b[43m,\u001b[49m\u001b[43m \u001b[49m\u001b[43mstream_cls\u001b[49m\u001b[38;5;241;43m=\u001b[39;49m\u001b[43mstream_cls\u001b[49m\u001b[43m)\u001b[49m)\n",
      "File \u001b[0;32m~/Desktop/projects/interviewer_bot/int_bot/lib/python3.10/site-packages/groq/_base_client.py:1031\u001b[0m, in \u001b[0;36mSyncAPIClient.request\u001b[0;34m(self, cast_to, options, stream, stream_cls)\u001b[0m\n\u001b[1;32m   1028\u001b[0m             err\u001b[38;5;241m.\u001b[39mresponse\u001b[38;5;241m.\u001b[39mread()\n\u001b[1;32m   1030\u001b[0m         log\u001b[38;5;241m.\u001b[39mdebug(\u001b[38;5;124m\"\u001b[39m\u001b[38;5;124mRe-raising status error\u001b[39m\u001b[38;5;124m\"\u001b[39m)\n\u001b[0;32m-> 1031\u001b[0m         \u001b[38;5;28;01mraise\u001b[39;00m \u001b[38;5;28mself\u001b[39m\u001b[38;5;241m.\u001b[39m_make_status_error_from_response(err\u001b[38;5;241m.\u001b[39mresponse) \u001b[38;5;28;01mfrom\u001b[39;00m\u001b[38;5;250m \u001b[39m\u001b[38;5;28;01mNone\u001b[39;00m\n\u001b[1;32m   1033\u001b[0m     \u001b[38;5;28;01mbreak\u001b[39;00m\n\u001b[1;32m   1035\u001b[0m \u001b[38;5;28;01massert\u001b[39;00m response \u001b[38;5;129;01mis\u001b[39;00m \u001b[38;5;129;01mnot\u001b[39;00m \u001b[38;5;28;01mNone\u001b[39;00m, \u001b[38;5;124m\"\u001b[39m\u001b[38;5;124mcould not resolve response (should never happen)\u001b[39m\u001b[38;5;124m\"\u001b[39m\n",
      "\u001b[0;31mBadRequestError\u001b[0m: Error code: 400 - {'error': {'message': 'The model `playai-tts` requires terms acceptance. Please have the org admin accept the terms at https://console.groq.com/playground?model=playai-tts', 'type': 'invalid_request_error', 'code': 'model_terms_required'}}"
     ]
    }
   ],
   "source": [
    "score = {}\n",
    "\n",
    "for idx, question in enumerate(questions[:2], 1):\n",
    "    print(f\"\\n--- [Question {idx}] Serving Initial Question ---\")\n",
    "    question_speech = interviewr_bot.convert_question_to_speech(question)\n",
    "    \n",
    "    print(f\"[Question {idx}] Awaiting User Answer (Press Enter to Stop Recording)...\")\n",
    "    answer_speech = interviewr_bot.record_until_enter()\n",
    "    \n",
    "    print(f\"[Question {idx}] Converting Speech to Text...\")\n",
    "    answer_text = interviewr_bot.convert_speech_to_text()\n",
    "    \n",
    "    print(f\"[Question {idx}] Evaluating Initial Answer...\")\n",
    "    evaluation = interviewr_bot.evaluate_answer(question, answer_text)\n",
    "    \n",
    "    score[question] = {\n",
    "        \"question_speech\": question_speech,\n",
    "        \"answer_speech\": answer_speech,\n",
    "        \"answer_text\": answer_text,\n",
    "        \"evaluation\": evaluation\n",
    "    }\n",
    "\n",
    "    if evaluation['evaluation']['score'] <= 6:\n",
    "        print(f\"[Question {idx}] Score ≤ 6 — Generating Follow-Up Question 1...\")\n",
    "        follow_up_question_1 = interviewr_bot.generate_follow_up_question(question, answer_text)\n",
    "        print(f\"[Question {idx}] Follow-Up Question 1: {follow_up_question_1}\")\n",
    "        \n",
    "        follow_up_q1_speech = interviewr_bot.convert_question_to_speech(follow_up_question_1)\n",
    "        print(f\"[Question {idx}] Awaiting Clarification Answer (Follow-Up 1)...\")\n",
    "        follow_up_a1_speech = interviewr_bot.record_until_enter()\n",
    "        \n",
    "        print(f\"[Question {idx}] Converting Follow-Up 1 Answer to Text...\")\n",
    "        follow_up_a1_text = interviewr_bot.convert_speech_to_text()\n",
    "        \n",
    "        print(f\"[Question {idx}] Evaluating Follow-Up 1 Answer...\")\n",
    "        evaluation_follow_up_1 = interviewr_bot.evaluate_answer(follow_up_question_1, follow_up_a1_text)\n",
    "        \n",
    "        score[question].update({\n",
    "            \"follow_up_question_1\": follow_up_question_1,\n",
    "            \"follow_up_question_1_speech\": follow_up_q1_speech,\n",
    "            \"follow_up_answer_1_speech\": follow_up_a1_speech,\n",
    "            \"follow_up_answer_1_text\": follow_up_a1_text,\n",
    "            \"evaluation_follow_up_1\": evaluation_follow_up_1\n",
    "        })\n",
    "\n",
    "        if evaluation_follow_up_1['evaluation']['score'] <= 6:\n",
    "            print(f\"[Question {idx}] Score Still ≤ 6 — Generating Follow-Up Question 2...\")\n",
    "            follow_up_question_2 = interviewr_bot.generate_follow_up_question(question, follow_up_a1_text)\n",
    "            print(f\"[Question {idx}] Follow-Up Question 2: {follow_up_question_2}\")\n",
    "            \n",
    "            follow_up_q2_speech = interviewr_bot.convert_question_to_speech(follow_up_question_2)\n",
    "            print(f\"[Question {idx}] Awaiting Clarification Answer (Follow-Up 2)...\")\n",
    "            follow_up_a2_speech = interviewr_bot.record_until_enter()\n",
    "            \n",
    "            print(f\"[Question {idx}] Converting Follow-Up 2 Answer to Text...\")\n",
    "            follow_up_a2_text = interviewr_bot.convert_speech_to_text()\n",
    "            \n",
    "            print(f\"[Question {idx}] Evaluating Follow-Up 2 Answer...\")\n",
    "            evaluation_follow_up_2 = interviewr_bot.evaluate_answer(follow_up_question_2, follow_up_a2_text)\n",
    "            \n",
    "            score[question].update({\n",
    "                \"follow_up_question_2\": follow_up_question_2,\n",
    "                \"follow_up_question_2_speech\": follow_up_q2_speech,\n",
    "                \"follow_up_answer_2_speech\": follow_up_a2_speech,\n",
    "                \"follow_up_answer_2_text\": follow_up_a2_text,\n",
    "                \"evaluation_follow_up_2\": evaluation_follow_up_2\n",
    "            })\n",
    "        else:\n",
    "            print(f\"[Question {idx}] Follow-Up 1 Clarified Well — No Need for Follow-Up 2.\")\n",
    "    else:\n",
    "        print(f\"[Question {idx}] Good Score — No Follow-Up Needed.\")\n",
    "\n",
    "print(\"\\n--- Interview Session Complete ---\")\n"
   ]
  },
  {
   "cell_type": "code",
   "execution_count": null,
   "id": "afd45344",
   "metadata": {},
   "outputs": [],
   "source": []
  }
 ],
 "metadata": {
  "kernelspec": {
   "display_name": "Python 3",
   "language": "python",
   "name": "python3"
  },
  "language_info": {
   "codemirror_mode": {
    "name": "ipython",
    "version": 3
   },
   "file_extension": ".py",
   "mimetype": "text/x-python",
   "name": "python",
   "nbconvert_exporter": "python",
   "pygments_lexer": "ipython3",
   "version": "3.10.16"
  }
 },
 "nbformat": 4,
 "nbformat_minor": 5
}
